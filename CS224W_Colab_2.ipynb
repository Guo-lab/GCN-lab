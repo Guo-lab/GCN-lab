{
  "cells": [
    {
      "cell_type": "markdown",
      "metadata": {
        "id": "XuXWJLEm2UWS"
      },
      "source": [
        "# **CS224W - Colab 2**"
      ]
    },
    {
      "cell_type": "markdown",
      "metadata": {
        "id": "8gzsP50bF6Gb"
      },
      "source": [
        "In Colab 2, we will work to construct our own graph neural network using PyTorch Geometric (PyG) and then apply that model on two Open Graph Benchmark (OGB) datasets. These two datasets will be used to benchmark your model's performance on two different graph-based tasks: 1) node property prediction, predicting properties of single nodes and 2) graph property prediction, predicting properties of entire graphs or subgraphs.\n",
        "\n",
        "First, we will learn how PyTorch Geometric stores graphs as PyTorch tensors.\n",
        "\n",
        "Then, we will load and inspect one of the Open Graph Benchmark (OGB) datasets by using the `ogb` package. OGB is a collection of realistic, large-scale, and diverse benchmark datasets for machine learning on graphs. The `ogb` package not only provides data loaders for each dataset but also model evaluators.\n",
        "\n",
        "Lastly, we will build our own graph neural network using PyTorch Geometric. We will then train and evaluate our model on the OGB node property prediction and graph property prediction tasks.\n",
        "\n",
        "**Note**: Make sure to **sequentially run all the cells in each section**, so that the intermediate variables / packages will carry over to the next cell\n",
        "\n",
        "We recommend you save a copy of this colab in your drive so you don't lose progress!\n",
        "\n",
        "Have fun and good luck on Colab 2 :)"
      ]
    },
    {
      "cell_type": "markdown",
      "metadata": {
        "id": "ZGKqVEbbMEzf"
      },
      "source": [
        "# Device\n",
        "You might need to use a GPU for this Colab to run quickly.\n",
        "\n",
        "Please click `Runtime` and then `Change runtime type`. Then set the `hardware accelerator` to **GPU**."
      ]
    },
    {
      "cell_type": "markdown",
      "metadata": {
        "id": "OCK7krJdp4o8"
      },
      "source": [
        "# Setup\n",
        "As discussed in Colab 0, the installation of PyG on Colab can be a little bit tricky. First let us check which version of PyTorch you are running\n",
        "\n",
        "Version not match, then `OSError: torch_sparse/_version_cuda.so: undefined symbol:`  \n",
        "For pytorch, `pip install torch==1.9.0+cu111 -f https://download.pytorch.org/whl/cu111/torch_stable.html`"
      ]
    },
    {
      "cell_type": "code",
      "execution_count": 1,
      "metadata": {
        "id": "2vkP8pA1qBE5"
      },
      "outputs": [
        {
          "name": "stdout",
          "output_type": "stream",
          "text": [
            "PyTorch has version 1.9.0+cu111\n"
          ]
        },
        {
          "name": "stderr",
          "output_type": "stream",
          "text": [
            "/data/user/anaconda3/envs/fengbingdaotf1/lib/python3.6/site-packages/tqdm/auto.py:22: TqdmWarning: IProgress not found. Please update jupyter and ipywidgets. See https://ipywidgets.readthedocs.io/en/stable/user_install.html\n",
            "  from .autonotebook import tqdm as notebook_tqdm\n"
          ]
        }
      ],
      "source": [
        "import torch\n",
        "import os\n",
        "print(\"PyTorch has version {}\".format(torch.__version__))"
      ]
    },
    {
      "cell_type": "markdown",
      "metadata": {
        "id": "L6d22O6DqGSZ"
      },
      "source": [
        "Download the necessary packages for PyG. Make sure that your version of torch matches the output from the cell above. In case of any issues, more information can be found on the [PyG's installation page](https://pytorch-geometric.readthedocs.io/en/latest/notes/installation.html)."
      ]
    },
    {
      "cell_type": "code",
      "execution_count": 3,
      "metadata": {
        "id": "zr8hfxJ-qRg2"
      },
      "outputs": [
        {
          "name": "stdout",
          "output_type": "stream",
          "text": [
            "Looking in links: https://pytorch-geometric.com/whl/torch-1.9.0+cu111.html\n",
            "Collecting torch-scatter\n",
            "  Downloading https://data.pyg.org/whl/torch-1.9.0%2Bcu111/torch_scatter-2.0.9-cp36-cp36m-linux_x86_64.whl (10.4 MB)\n",
            "\u001b[K     |████████████████████████████████| 10.4 MB 9.4 MB/s eta 0:00:01    |███████████████████████▊        | 7.7 MB 9.4 MB/s eta 0:00:01\n",
            "\u001b[?25hInstalling collected packages: torch-scatter\n",
            "Successfully installed torch-scatter-2.0.9\n",
            "Looking in links: https://pytorch-geometric.com/whl/torch-1.9.0+cu111.html\n",
            "Collecting torch-sparse\n",
            "  Downloading https://data.pyg.org/whl/torch-1.9.0%2Bcu111/torch_sparse-0.6.12-cp36-cp36m-linux_x86_64.whl (3.7 MB)\n",
            "\u001b[K     |████████████████████████████████| 3.7 MB 1.9 MB/s eta 0:00:01\n",
            "\u001b[?25hRequirement already satisfied: scipy in /data/user/anaconda3/envs/fengbingdaotf1/lib/python3.6/site-packages (from torch-sparse) (1.5.2)\n",
            "Requirement already satisfied: numpy>=1.14.5 in /data/user/anaconda3/envs/fengbingdaotf1/lib/python3.6/site-packages (from scipy->torch-sparse) (1.19.2)\n",
            "Installing collected packages: torch-sparse\n",
            "Successfully installed torch-sparse-0.6.12\n",
            "Collecting torch-geometric\n",
            "  Downloading torch_geometric-2.0.3.tar.gz (370 kB)\n",
            "\u001b[K     |████████████████████████████████| 370 kB 1.3 MB/s eta 0:00:01\n",
            "\u001b[?25hRequirement already satisfied: numpy in /data/user/anaconda3/envs/fengbingdaotf1/lib/python3.6/site-packages (from torch-geometric) (1.19.2)\n",
            "Collecting tqdm\n",
            "  Using cached tqdm-4.64.1-py2.py3-none-any.whl (78 kB)\n",
            "Requirement already satisfied: scipy in /data/user/anaconda3/envs/fengbingdaotf1/lib/python3.6/site-packages (from torch-geometric) (1.5.2)\n",
            "Requirement already satisfied: networkx in /data/user/anaconda3/envs/fengbingdaotf1/lib/python3.6/site-packages (from torch-geometric) (2.5.1)\n",
            "Requirement already satisfied: scikit-learn in /data/user/anaconda3/envs/fengbingdaotf1/lib/python3.6/site-packages (from torch-geometric) (0.23.2)\n",
            "Collecting requests\n",
            "  Using cached requests-2.27.1-py2.py3-none-any.whl (63 kB)\n",
            "Requirement already satisfied: pandas in /data/user/anaconda3/envs/fengbingdaotf1/lib/python3.6/site-packages (from torch-geometric) (1.1.5)\n",
            "Collecting rdflib\n",
            "  Downloading rdflib-5.0.0-py3-none-any.whl (231 kB)\n",
            "\u001b[K     |████████████████████████████████| 231 kB 32.5 MB/s eta 0:00:01\n",
            "\u001b[?25hCollecting googledrivedownloader\n",
            "  Using cached googledrivedownloader-0.4-py2.py3-none-any.whl (3.9 kB)\n",
            "Collecting jinja2\n",
            "  Using cached Jinja2-3.0.3-py3-none-any.whl (133 kB)\n",
            "Requirement already satisfied: pyparsing in /data/user/anaconda3/envs/fengbingdaotf1/lib/python3.6/site-packages (from torch-geometric) (3.0.9)\n",
            "Collecting yacs\n",
            "  Downloading yacs-0.1.8-py3-none-any.whl (14 kB)\n",
            "Collecting PyYAML\n",
            "  Using cached PyYAML-6.0-cp36-cp36m-manylinux_2_5_x86_64.manylinux1_x86_64.manylinux_2_12_x86_64.manylinux2010_x86_64.whl (603 kB)\n",
            "Collecting MarkupSafe>=2.0\n",
            "  Downloading MarkupSafe-2.0.1-cp36-cp36m-manylinux_2_5_x86_64.manylinux1_x86_64.manylinux_2_12_x86_64.manylinux2010_x86_64.whl (30 kB)\n",
            "Requirement already satisfied: decorator<5,>=4.3 in /data/user/anaconda3/envs/fengbingdaotf1/lib/python3.6/site-packages (from networkx->torch-geometric) (4.4.2)\n",
            "Requirement already satisfied: pytz>=2017.2 in /data/user/anaconda3/envs/fengbingdaotf1/lib/python3.6/site-packages (from pandas->torch-geometric) (2022.5)\n",
            "Requirement already satisfied: python-dateutil>=2.7.3 in /data/user/anaconda3/envs/fengbingdaotf1/lib/python3.6/site-packages (from pandas->torch-geometric) (2.8.2)\n",
            "Requirement already satisfied: six>=1.5 in /data/user/anaconda3/envs/fengbingdaotf1/lib/python3.6/site-packages (from python-dateutil>=2.7.3->pandas->torch-geometric) (1.16.0)\n",
            "Collecting isodate\n",
            "  Using cached isodate-0.6.1-py2.py3-none-any.whl (41 kB)\n",
            "Collecting urllib3<1.27,>=1.21.1\n",
            "  Using cached urllib3-1.26.12-py2.py3-none-any.whl (140 kB)\n",
            "Collecting idna<4,>=2.5\n",
            "  Using cached idna-3.4-py3-none-any.whl (61 kB)\n",
            "Collecting charset-normalizer~=2.0.0\n",
            "  Using cached charset_normalizer-2.0.12-py3-none-any.whl (39 kB)\n",
            "Requirement already satisfied: certifi>=2017.4.17 in /data/user/anaconda3/envs/fengbingdaotf1/lib/python3.6/site-packages (from requests->torch-geometric) (2021.5.30)\n",
            "Requirement already satisfied: joblib>=0.11 in /data/user/anaconda3/envs/fengbingdaotf1/lib/python3.6/site-packages (from scikit-learn->torch-geometric) (1.1.1)\n",
            "Requirement already satisfied: threadpoolctl>=2.0.0 in /data/user/anaconda3/envs/fengbingdaotf1/lib/python3.6/site-packages (from scikit-learn->torch-geometric) (3.1.0)\n",
            "Collecting importlib-resources\n",
            "  Using cached importlib_resources-5.4.0-py3-none-any.whl (28 kB)\n",
            "Requirement already satisfied: zipp>=3.1.0 in /data/user/anaconda3/envs/fengbingdaotf1/lib/python3.6/site-packages (from importlib-resources->tqdm->torch-geometric) (3.6.0)\n",
            "Building wheels for collected packages: torch-geometric\n",
            "  Building wheel for torch-geometric (setup.py) ... \u001b[?25ldone\n",
            "\u001b[?25h  Created wheel for torch-geometric: filename=torch_geometric-2.0.3-py3-none-any.whl size=581968 sha256=a7386608bc80785580fcb011db4d77666cfc1b0accd97b3366f4e56e1c5ce62d\n",
            "  Stored in directory: /home/user/.cache/pip/wheels/d2/48/63/193500a1360033fb617b90aede62d33ef14dc8e5f5c5f0972a\n",
            "Successfully built torch-geometric\n",
            "Installing collected packages: urllib3, PyYAML, MarkupSafe, isodate, importlib-resources, idna, charset-normalizer, yacs, tqdm, requests, rdflib, jinja2, googledrivedownloader, torch-geometric\n",
            "Successfully installed MarkupSafe-2.0.1 PyYAML-6.0 charset-normalizer-2.0.12 googledrivedownloader-0.4 idna-3.4 importlib-resources-5.4.0 isodate-0.6.1 jinja2-3.0.3 rdflib-5.0.0 requests-2.27.1 torch-geometric-2.0.3 tqdm-4.64.1 urllib3-1.26.12 yacs-0.1.8\n",
            "Collecting ogb\n",
            "  Using cached ogb-1.3.4-py3-none-any.whl (78 kB)\n",
            "Requirement already satisfied: pandas>=0.24.0 in /data/user/anaconda3/envs/fengbingdaotf1/lib/python3.6/site-packages (from ogb) (1.1.5)\n",
            "Requirement already satisfied: tqdm>=4.29.0 in /data/user/anaconda3/envs/fengbingdaotf1/lib/python3.6/site-packages (from ogb) (4.64.1)\n",
            "Requirement already satisfied: torch>=1.6.0 in /data/user/anaconda3/envs/fengbingdaotf1/lib/python3.6/site-packages (from ogb) (1.10.2)\n",
            "Requirement already satisfied: urllib3>=1.24.0 in /data/user/anaconda3/envs/fengbingdaotf1/lib/python3.6/site-packages (from ogb) (1.26.12)\n",
            "Collecting outdated>=0.2.0\n",
            "  Using cached outdated-0.2.1-py3-none-any.whl (7.5 kB)\n",
            "Requirement already satisfied: numpy>=1.16.0 in /data/user/anaconda3/envs/fengbingdaotf1/lib/python3.6/site-packages (from ogb) (1.19.2)\n",
            "Requirement already satisfied: scikit-learn>=0.20.0 in /data/user/anaconda3/envs/fengbingdaotf1/lib/python3.6/site-packages (from ogb) (0.23.2)\n",
            "Requirement already satisfied: six>=1.12.0 in /data/user/anaconda3/envs/fengbingdaotf1/lib/python3.6/site-packages (from ogb) (1.16.0)\n",
            "Collecting littleutils\n",
            "  Using cached littleutils-0.2.2.tar.gz (6.6 kB)\n",
            "Requirement already satisfied: requests in /data/user/anaconda3/envs/fengbingdaotf1/lib/python3.6/site-packages (from outdated>=0.2.0->ogb) (2.27.1)\n",
            "Requirement already satisfied: pytz>=2017.2 in /data/user/anaconda3/envs/fengbingdaotf1/lib/python3.6/site-packages (from pandas>=0.24.0->ogb) (2022.5)\n",
            "Requirement already satisfied: python-dateutil>=2.7.3 in /data/user/anaconda3/envs/fengbingdaotf1/lib/python3.6/site-packages (from pandas>=0.24.0->ogb) (2.8.2)\n",
            "Requirement already satisfied: scipy>=0.19.1 in /data/user/anaconda3/envs/fengbingdaotf1/lib/python3.6/site-packages (from scikit-learn>=0.20.0->ogb) (1.5.2)\n",
            "Requirement already satisfied: joblib>=0.11 in /data/user/anaconda3/envs/fengbingdaotf1/lib/python3.6/site-packages (from scikit-learn>=0.20.0->ogb) (1.1.1)\n",
            "Requirement already satisfied: threadpoolctl>=2.0.0 in /data/user/anaconda3/envs/fengbingdaotf1/lib/python3.6/site-packages (from scikit-learn>=0.20.0->ogb) (3.1.0)\n",
            "Requirement already satisfied: typing-extensions in /data/user/anaconda3/envs/fengbingdaotf1/lib/python3.6/site-packages (from torch>=1.6.0->ogb) (4.1.1)\n",
            "Requirement already satisfied: dataclasses in /data/user/anaconda3/envs/fengbingdaotf1/lib/python3.6/site-packages (from torch>=1.6.0->ogb) (0.8)\n",
            "Requirement already satisfied: importlib-resources in /data/user/anaconda3/envs/fengbingdaotf1/lib/python3.6/site-packages (from tqdm>=4.29.0->ogb) (5.4.0)\n",
            "Requirement already satisfied: zipp>=3.1.0 in /data/user/anaconda3/envs/fengbingdaotf1/lib/python3.6/site-packages (from importlib-resources->tqdm>=4.29.0->ogb) (3.6.0)\n",
            "Requirement already satisfied: certifi>=2017.4.17 in /data/user/anaconda3/envs/fengbingdaotf1/lib/python3.6/site-packages (from requests->outdated>=0.2.0->ogb) (2021.5.30)\n",
            "Requirement already satisfied: idna<4,>=2.5 in /data/user/anaconda3/envs/fengbingdaotf1/lib/python3.6/site-packages (from requests->outdated>=0.2.0->ogb) (3.4)\n",
            "Requirement already satisfied: charset-normalizer~=2.0.0 in /data/user/anaconda3/envs/fengbingdaotf1/lib/python3.6/site-packages (from requests->outdated>=0.2.0->ogb) (2.0.12)\n",
            "Building wheels for collected packages: littleutils\n",
            "  Building wheel for littleutils (setup.py) ... \u001b[?25ldone\n",
            "\u001b[?25h  Created wheel for littleutils: filename=littleutils-0.2.2-py3-none-any.whl size=7048 sha256=fec662879b57fd5f8cc9ad1730b806bae7e36172ab08b329e4d1d0e064a4a612\n",
            "  Stored in directory: /home/user/.cache/pip/wheels/ce/74/d2/8ca76b7a1356197c45a88696c5e0e94d737b9a08118854b1c0\n",
            "Successfully built littleutils\n",
            "Installing collected packages: littleutils, outdated, ogb\n",
            "Successfully installed littleutils-0.2.2 ogb-1.3.4 outdated-0.2.1\n"
          ]
        }
      ],
      "source": [
        "# Install torch geometric\n",
        "if 'IS_GRADESCOPE_ENV' not in os.environ:\n",
        "  !pip install torch-scatter -f https://pytorch-geometric.com/whl/torch-1.9.0+cu111.html\n",
        "  !pip install torch-sparse -f https://pytorch-geometric.com/whl/torch-1.9.0+cu111.html\n",
        "  !pip install torch-geometric\n",
        "  !pip install ogb"
      ]
    },
    {
      "cell_type": "markdown",
      "metadata": {
        "id": "Nwwq0nSdmsOL"
      },
      "source": [
        "# 1) PyTorch Geometric (Datasets and Data)\n"
      ]
    },
    {
      "cell_type": "markdown",
      "metadata": {
        "id": "Sf7vUmdNKCjA"
      },
      "source": [
        "PyTorch Geometric has two classes for storing and/or transforming graphs into tensor format. One is `torch_geometric.datasets`, which contains a variety of common graph datasets. Another is `torch_geometric.data`, which provides the data handling of graphs in PyTorch tensors.\n",
        "\n",
        "In this section, we will learn how to use `torch_geometric.datasets` and `torch_geometric.data` together."
      ]
    },
    {
      "cell_type": "markdown",
      "metadata": {
        "id": "ic-o1P3r6hr2"
      },
      "source": [
        "## PyG Datasets\n",
        "\n",
        "The `torch_geometric.datasets` class has many common graph datasets. Here we will explore its usage through one example dataset."
      ]
    },
    {
      "cell_type": "code",
      "execution_count": 2,
      "metadata": {
        "id": "zT5qca3x6XpG"
      },
      "outputs": [
        {
          "name": "stderr",
          "output_type": "stream",
          "text": [
            "Downloading https://www.chrsmrrs.com/graphkerneldatasets/ENZYMES.zip\n",
            "Extracting enzymes/ENZYMES/ENZYMES.zip\n",
            "Processing...\n"
          ]
        },
        {
          "name": "stdout",
          "output_type": "stream",
          "text": [
            "ENZYMES(600)\n"
          ]
        },
        {
          "name": "stderr",
          "output_type": "stream",
          "text": [
            "Done!\n"
          ]
        }
      ],
      "source": [
        "from torch_geometric.datasets import TUDataset\n",
        "\n",
        "if 'IS_GRADESCOPE_ENV' not in os.environ:\n",
        "  root = './enzymes'\n",
        "  name = 'ENZYMES'\n",
        "\n",
        "  # The ENZYMES dataset\n",
        "  pyg_dataset= TUDataset(root, name)\n",
        "\n",
        "  # You will find that there are 600 graphs in this dataset\n",
        "  print(pyg_dataset)"
      ]
    },
    {
      "cell_type": "markdown",
      "metadata": {
        "id": "NLm5vVYMAP2x"
      },
      "source": [
        "## Question 1: What is the number of classes and number of features in the ENZYMES dataset? (5 points)"
      ]
    },
    {
      "cell_type": "code",
      "execution_count": 5,
      "metadata": {
        "id": "8iF_Kyqr_JbY"
      },
      "outputs": [
        {
          "name": "stdout",
          "output_type": "stream",
          "text": [
            "ENZYMES dataset has 6 classes\n",
            "ENZYMES dataset has 3 features\n"
          ]
        }
      ],
      "source": [
        "def get_num_classes(pyg_dataset):\n",
        "  # TODO: Implement a function that takes a PyG dataset object\n",
        "  # and returns the number of classes for that dataset.\n",
        "\n",
        "  num_classes = 0\n",
        "\n",
        "  ############# Your code here ############\n",
        "  ## (~1 line of code)\n",
        "  ## Note\n",
        "  ## 1. Colab autocomplete functionality might be useful.\n",
        "  num_classes = pyg_dataset.num_classes\n",
        "  #########################################\n",
        "\n",
        "  return num_classes\n",
        "\n",
        "def get_num_features(pyg_dataset):\n",
        "  # TODO: Implement a function that takes a PyG dataset object\n",
        "  # and returns the number of features for that dataset.\n",
        "\n",
        "  num_features = 0\n",
        "\n",
        "  ############# Your code here ############\n",
        "  ## (~1 line of code)\n",
        "  ## Note\n",
        "  ## 1. Colab autocomplete functionality might be useful.\n",
        "  #@ https://pytorch-geometric.readthedocs.io/en/latest/modules/data.html#torch_geometric.data.Dataset.num_node_features\n",
        "  num_features = pyg_dataset.num_node_features\n",
        "  #########################################\n",
        "\n",
        "  return num_features\n",
        "\n",
        "if 'IS_GRADESCOPE_ENV' not in os.environ:\n",
        "  num_classes = get_num_classes(pyg_dataset)\n",
        "  num_features = get_num_features(pyg_dataset)\n",
        "  print(\"{} dataset has {} classes\".format(name, num_classes))\n",
        "  print(\"{} dataset has {} features\".format(name, num_features))"
      ]
    },
    {
      "cell_type": "markdown",
      "metadata": {
        "id": "rwKbzhHUAckZ"
      },
      "source": [
        "## PyG Data\n",
        "\n",
        "Each PyG dataset stores a list of `torch_geometric.data.Data` objects, where each `torch_geometric.data.Data` object represents a graph. We can easily get the `Data` object by indexing into the dataset.\n",
        "\n",
        "For more information such as what is stored in the `Data` object, please refer to the [documentation](https://pytorch-geometric.readthedocs.io/en/latest/modules/data.html#torch_geometric.data.Data)."
      ]
    },
    {
      "cell_type": "markdown",
      "metadata": {
        "id": "7sCV3xJWCddX"
      },
      "source": [
        "## Question 2: What is the label of the graph with index 100 in the ENZYMES dataset? (5 points)"
      ]
    },
    {
      "cell_type": "code",
      "execution_count": 6,
      "metadata": {
        "id": "LIis9oTZAfs3"
      },
      "outputs": [
        {
          "name": "stdout",
          "output_type": "stream",
          "text": [
            "Data(edge_index=[2, 168], x=[37, 3], y=[1])\n",
            "Graph with index 100 has label 4\n"
          ]
        }
      ],
      "source": [
        "def get_graph_class(pyg_dataset, idx):\n",
        "  # TODO: Implement a function that takes a PyG dataset object,\n",
        "  # an index of a graph within the dataset, and returns the class/label \n",
        "  # of the graph (as an integer).\n",
        "\n",
        "  label = -1\n",
        "\n",
        "  ############# Your code here ############\n",
        "  ## (~1 line of code)\n",
        "  label = pyg_dataset[idx].y.item()\n",
        "  #########################################\n",
        "\n",
        "  return label\n",
        "\n",
        "# Here pyg_dataset is a dataset for graph classification\n",
        "if 'IS_GRADESCOPE_ENV' not in os.environ:\n",
        "  graph_0 = pyg_dataset[0]\n",
        "  print(graph_0)\n",
        "  idx = 100\n",
        "  label = get_graph_class(pyg_dataset, idx)\n",
        "  print('Graph with index {} has label {}'.format(idx, label))"
      ]
    },
    {
      "cell_type": "markdown",
      "metadata": {
        "id": "fKhcVeAhCwoY"
      },
      "source": [
        "## Question 3: How many edges does the graph with index 200 have? (5 points)"
      ]
    },
    {
      "cell_type": "code",
      "execution_count": 11,
      "metadata": {
        "id": "f5m2DOfhBtWv"
      },
      "outputs": [
        {
          "name": "stdout",
          "output_type": "stream",
          "text": [
            "Graph with index 200 has 53 edges\n"
          ]
        }
      ],
      "source": [
        "def get_graph_num_edges(pyg_dataset, idx):\n",
        "  # TODO: Implement a function that takes a PyG dataset object,\n",
        "  # the index of a graph in the dataset, and returns the number of \n",
        "  # edges in the graph (as an integer). You should not count an edge \n",
        "  # twice if the graph is undirected. For example, in an undirected \n",
        "  # graph G, if two nodes v and u are connected by an edge, this edge\n",
        "  # should only be counted once.\n",
        "\n",
        "  num_edges = 0\n",
        "\n",
        "  ############# Your code here ############\n",
        "  ## Note:\n",
        "  ## 1. You can't return the data.num_edges directly\n",
        "  ## 2. We assume the graph is undirected\n",
        "  ## 3. Look at the PyG dataset built in functions\n",
        "  ## (~4 lines of code)\n",
        "  graph_idx = pyg_dataset[idx]\n",
        "  #//print(graph_idx.edge_index)\n",
        "  directed_edges = graph_idx.edge_index.size()\n",
        "  #//print(directed_edges)\n",
        "  undirected_edges = directed_edges[1] / 2\n",
        "  num_edges = int(undirected_edges)\n",
        "  #########################################\n",
        "\n",
        "  return num_edges\n",
        "\n",
        "if 'IS_GRADESCOPE_ENV' not in os.environ:\n",
        "  idx = 200\n",
        "  num_edges = get_graph_num_edges(pyg_dataset, idx)\n",
        "  print('Graph with index {} has {} edges'.format(idx, num_edges))"
      ]
    },
    {
      "cell_type": "markdown",
      "metadata": {
        "id": "AXa7yIG4E0Fp"
      },
      "source": [
        "# 2) Open Graph Benchmark (OGB)\n",
        "\n",
        "The Open Graph Benchmark (OGB) is a collection of realistic, large-scale, and diverse benchmark datasets for machine learning on graphs. Its datasets are automatically downloaded, processed, and split using the **OGB Data Loader**. The model performance can then be **evaluated** by using the **OGB Evaluator** in a unified manner."
      ]
    },
    {
      "cell_type": "markdown",
      "metadata": {
        "id": "HnazPGGAJAZN"
      },
      "source": [
        "## Dataset and Data\n",
        "\n",
        "OGB also supports PyG dataset and data classes. Here we take a look on the `ogbn-arxiv` dataset."
      ]
    },
    {
      "cell_type": "code",
      "execution_count": 12,
      "metadata": {
        "id": "Gpc6bTm3GF02"
      },
      "outputs": [
        {
          "name": "stdout",
          "output_type": "stream",
          "text": [
            "Downloading http://snap.stanford.edu/ogb/data/nodeproppred/arxiv.zip\n"
          ]
        },
        {
          "name": "stderr",
          "output_type": "stream",
          "text": [
            "Downloaded 0.08 GB: 100%|██████████| 81/81 [00:13<00:00,  5.96it/s]\n",
            "Processing...\n"
          ]
        },
        {
          "name": "stdout",
          "output_type": "stream",
          "text": [
            "Extracting dataset/arxiv.zip\n",
            "Loading necessary files...\n",
            "This might take a while.\n",
            "Processing graphs...\n"
          ]
        },
        {
          "name": "stderr",
          "output_type": "stream",
          "text": [
            "100%|██████████| 1/1 [00:00<00:00, 6241.52it/s]\n"
          ]
        },
        {
          "name": "stdout",
          "output_type": "stream",
          "text": [
            "Converting graphs into PyG objects...\n"
          ]
        },
        {
          "name": "stderr",
          "output_type": "stream",
          "text": [
            "100%|██████████| 1/1 [00:00<00:00, 3355.44it/s]"
          ]
        },
        {
          "name": "stdout",
          "output_type": "stream",
          "text": [
            "Saving...\n"
          ]
        },
        {
          "name": "stderr",
          "output_type": "stream",
          "text": [
            "\n",
            "Done!\n"
          ]
        },
        {
          "name": "stdout",
          "output_type": "stream",
          "text": [
            "The ogbn-arxiv dataset has 1 graph\n",
            "Data(num_nodes=169343, x=[169343, 128], node_year=[169343, 1], y=[169343, 1], adj_t=[169343, 169343, nnz=1166243])\n"
          ]
        }
      ],
      "source": [
        "import torch_geometric.transforms as T\n",
        "from ogb.nodeproppred import PygNodePropPredDataset\n",
        "\n",
        "if 'IS_GRADESCOPE_ENV' not in os.environ:\n",
        "  dataset_name = 'ogbn-arxiv'\n",
        "  #% Load the dataset and transform it to sparse tensor\n",
        "  #% in the case where Graph Too Large or Too Dense\n",
        "  dataset = PygNodePropPredDataset(name=dataset_name,\n",
        "                                  transform=T.ToSparseTensor())\n",
        "  print('The {} dataset has {} graph'.format(dataset_name, len(dataset)))\n",
        "\n",
        "  # Extract the graph\n",
        "  data = dataset[0]\n",
        "  print(data)"
      ]
    },
    {
      "cell_type": "markdown",
      "metadata": {
        "id": "Cw0xZJKZI-n3"
      },
      "source": [
        "## Question 4: How many features are in the ogbn-arxiv graph? (5 points)"
      ]
    },
    {
      "cell_type": "code",
      "execution_count": 8,
      "metadata": {
        "id": "ZP844_nT2ZJl"
      },
      "outputs": [
        {
          "name": "stdout",
          "output_type": "stream",
          "text": [
            "The graph has 128 features\n"
          ]
        }
      ],
      "source": [
        "def graph_num_features(data):\n",
        "  # TODO: Implement a function that takes a PyG data object,\n",
        "  # and returns the number of features in the graph (as an integer).\n",
        "\n",
        "  num_features = 0\n",
        "\n",
        "  ############# Your code here ############\n",
        "  ## (~1 line of code)\n",
        "  num_features = data.num_features # x\n",
        "  #########################################\n",
        "\n",
        "  return num_features\n",
        "\n",
        "if 'IS_GRADESCOPE_ENV' not in os.environ:\n",
        "  num_features = graph_num_features(data)\n",
        "  print('The graph has {} features'.format(num_features))"
      ]
    },
    {
      "cell_type": "markdown",
      "metadata": {
        "id": "9DP_yEQZ0NVW"
      },
      "source": [
        "# 3) GNN: Node Property Prediction\n",
        "\n",
        "In this section we will build our first graph neural network using PyTorch Geometric. Then we will apply it to the task of node property prediction (node classification).\n",
        "\n",
        "Specifically, we will use GCN as the foundation for your graph neural network ([Kipf et al. (2017)](https://arxiv.org/pdf/1609.02907.pdf)). To do so, we will work with PyG's built-in `GCNConv` layer. "
      ]
    },
    {
      "cell_type": "markdown",
      "metadata": {
        "id": "O4CcOUEoInjD"
      },
      "source": [
        "## Setup"
      ]
    },
    {
      "cell_type": "code",
      "execution_count": 9,
      "metadata": {
        "id": "-DCtgcHpGIpd"
      },
      "outputs": [
        {
          "name": "stdout",
          "output_type": "stream",
          "text": [
            "1.9.0+cu111\n"
          ]
        }
      ],
      "source": [
        "import torch\n",
        "import pandas as pd\n",
        "import torch.nn.functional as F\n",
        "print(torch.__version__)\n",
        "\n",
        "# The PyG built-in GCNConv\n",
        "from torch_geometric.nn import GCNConv\n",
        "\n",
        "import torch_geometric.transforms as T\n",
        "from ogb.nodeproppred import PygNodePropPredDataset, Evaluator"
      ]
    },
    {
      "cell_type": "markdown",
      "metadata": {
        "id": "0IK9z0wQIwzQ"
      },
      "source": [
        "## Load and Preprocess the Dataset"
      ]
    },
    {
      "cell_type": "code",
      "execution_count": 10,
      "metadata": {
        "id": "0ibJ0ieoIwQM"
      },
      "outputs": [
        {
          "name": "stdout",
          "output_type": "stream",
          "text": [
            "Device: cuda\n",
            "{'train': tensor([     0,      1,      2,  ..., 169145, 169148, 169251]), 'valid': tensor([   349,    357,    366,  ..., 169185, 169261, 169296]), 'test': tensor([   346,    398,    451,  ..., 169340, 169341, 169342])}\n"
          ]
        }
      ],
      "source": [
        "if 'IS_GRADESCOPE_ENV' not in os.environ:\n",
        "  dataset_name = 'ogbn-arxiv'\n",
        "  dataset = PygNodePropPredDataset(name=dataset_name,\n",
        "                                  transform=T.ToSparseTensor())\n",
        "  data = dataset[0]\n",
        "\n",
        "  # Make the adjacency matrix to symmetric\n",
        "  data.adj_t = data.adj_t.to_symmetric() # type: torch_sparse.tensor.SparseTensor\n",
        "\n",
        "  device = 'cuda' if torch.cuda.is_available() else 'cpu'\n",
        "\n",
        "  # If you use GPU, the device should be cuda\n",
        "  print('Device: {}'.format(device))\n",
        "\n",
        "  data = data.to(device)\n",
        "  split_idx = dataset.get_idx_split()\n",
        "  print(split_idx)\n",
        "  train_idx = split_idx['train'].to(device)"
      ]
    },
    {
      "cell_type": "markdown",
      "metadata": {
        "id": "OgUA815bNJ8w"
      },
      "source": [
        "## GCN Model\n",
        "\n",
        "Now we will implement our GCN model!\n",
        "\n",
        "Please follow the figure below to implement the `forward` function.\n",
        "\n",
        "\n",
        "###### x -> [ GCNConv -> BN -> ReLU -> Dropout ] -> x -> [ ] -> ... -> x -> GCNConv -> LogSoftmax -> out"
      ]
    },
    {
      "cell_type": "code",
      "execution_count": 27,
      "metadata": {
        "id": "IgspXTYpNJLA"
      },
      "outputs": [],
      "source": [
        "class GCN(torch.nn.Module):\n",
        "    def __init__(self, input_dim, hidden_dim, output_dim, num_layers,\n",
        "                 dropout, return_embeds=False):\n",
        "        # TODO: Implement a function that initializes self.convs, \n",
        "        # self.bns, and self.softmax.\n",
        "\n",
        "        super(GCN, self).__init__()\n",
        "\n",
        "        # A list of GCNConv layers\n",
        "        self.convs = None\n",
        "\n",
        "        # A list of 1D batch normalization layers\n",
        "        self.bns = None\n",
        "\n",
        "        # The log softmax layer\n",
        "        self.softmax = None\n",
        "\n",
        "        ############# Your code here ############\n",
        "        ## Note:\n",
        "        ## 1. You should use torch.nn.ModuleList for self.convs and self.bns\n",
        "        ## 2. self.convs has num_layers GCNConv layers\n",
        "        ## 3. self.bns has num_layers - 1 BatchNorm1d layers\n",
        "        ## 4. You should use torch.nn.LogSoftmax for self.softmax\n",
        "        ## 5. The parameters you can set for GCNConv include 'in_channels' and \n",
        "        ## 'out_channels'. For more information please refer to the documentation:\n",
        "        ## https://pytorch-geometric.readthedocs.io/en/latest/modules/nn.html#torch_geometric.nn.conv.GCNConv\n",
        "        ## 6. The only parameter you need to set for BatchNorm1d is 'num_features'\n",
        "        ## For more information please refer to the documentation: \n",
        "        ## https://pytorch.org/docs/stable/generated/torch.nn.BatchNorm1d.html\n",
        "        ## (~10 lines of code)\n",
        "        \n",
        "        #% https://pytorch.org/docs/stable/generated/torch.nn.ModuleList.html\n",
        "        self.convs = torch.nn.ModuleList()\n",
        "        for i in range(num_layers - 1): # 0 to (num_layers - 2)\n",
        "            #% https://pytorch-geometric.readthedocs.io/en/latest/modules/nn.html#torch_geometric.nn.conv.GCNConv\n",
        "            #% https://arxiv.org/pdf/1609.02907.pdf\n",
        "            self.convs.append(GCNConv(in_channels=input_dim, out_channels=hidden_dim)) \n",
        "            input_dim = hidden_dim\n",
        "        \n",
        "        self.convs.append(GCNConv(input_dim, output_dim))\n",
        "        \n",
        "        #% https://pytorch.org/docs/stable/generated/torch.nn.BatchNorm1d.html\n",
        "        self.bns = torch.nn.ModuleList()\n",
        "        for i in range(num_layers - 1):\n",
        "            self.bns.append(torch.nn.BatchNorm1d(hidden_dim))\n",
        "            \n",
        "        self.softmax = torch.nn.LogSoftmax()\n",
        "        #########################################\n",
        "\n",
        "        # Probability of an element getting zeroed\n",
        "        self.dropout = dropout\n",
        "\n",
        "        # Skip classification layer and return node embeddings\n",
        "        self.return_embeds = return_embeds\n",
        "\n",
        "    def reset_parameters(self):\n",
        "        for conv in self.convs:\n",
        "            conv.reset_parameters()\n",
        "        for bn in self.bns:\n",
        "            bn.reset_parameters()\n",
        "\n",
        "    def forward(self, x, adj_t):\n",
        "        # TODO: Implement a function that takes the feature tensor x and\n",
        "        # edge_index tensor adj_t and returns the output tensor as\n",
        "        # shown in the figure.\n",
        "\n",
        "        out = None\n",
        "\n",
        "        ############# Your code here ############\n",
        "        ## Note:\n",
        "        ## 1. Construct the network as shown in the figure\n",
        "        ## 2. torch.nn.functional.relu and torch.nn.functional.dropout are useful\n",
        "        ## For more information please refer to the documentation:\n",
        "        ## https://pytorch.org/docs/stable/nn.functional.html\n",
        "        ## 3. Don't forget to set F.dropout training to self.training\n",
        "        ## 4. If return_embeds is True, then skip the last softmax layer\n",
        "        ## (~7 lines of code)\n",
        "        \n",
        "        num_layers = len(self.convs)\n",
        "        for layer in range(num_layers - 1):\n",
        "            x = self.convs[layer](x, adj_t) #@ https://pytorch-geometric.readthedocs.io/en/latest/_modules/torch_geometric/nn/conv/gcn_conv.html#GCNConv.forward\n",
        "            x = self.bns[layer](x)\n",
        "            x = F.relu(x)\n",
        "            x = F.dropout(x, self.dropout, self.training) #@ https://blog.csdn.net/PolarisRisingWar/article/details/117754981\n",
        "        \n",
        "        out = self.convs[num_layers - 1](x, adj_t)\n",
        "        if self.return_embeds == False:\n",
        "            out = self.softmax(out)\n",
        "        #########################################\n",
        "\n",
        "        return out"
      ]
    },
    {
      "cell_type": "code",
      "execution_count": 30,
      "metadata": {
        "id": "FF1hnHUhO81e"
      },
      "outputs": [],
      "source": [
        "def train(model, data, train_idx, optimizer, loss_fn):\n",
        "    # TODO: Implement a function that trains the model by \n",
        "    # using the given optimizer and loss_fn.\n",
        "    model.train()\n",
        "    loss = 0\n",
        "\n",
        "    ############# Your code here ############\n",
        "    ## Note:\n",
        "    ## 1. Zero grad the optimizer\n",
        "    ## 2. Feed the data into the model\n",
        "    ## 3. Slice the model output and label by train_idx\n",
        "    ## 4. Feed the sliced output and label to loss_fn\n",
        "    ## (~4 lines of code)\n",
        "    \n",
        "    optimizer.zero_grad()\n",
        "    y = model(data.x, data.adj_t)\n",
        "    train_output = y[train_idx] # train_idx list\n",
        "    train_gtlabel = data.y[train_idx, 0]\n",
        "    loss = loss_fn(train_output, train_gtlabel)\n",
        "    \n",
        "    #########################################\n",
        "\n",
        "    loss.backward()\n",
        "    optimizer.step()\n",
        "\n",
        "    return loss.item()"
      ]
    },
    {
      "cell_type": "code",
      "execution_count": 29,
      "metadata": {
        "id": "aJdlrJQhPBsK"
      },
      "outputs": [],
      "source": [
        "# Test function here\n",
        "@torch.no_grad()\n",
        "def test(model, data, split_idx, evaluator, save_model_results=False):\n",
        "    # TODO: Implement a function that tests the model by \n",
        "    # using the given split_idx and evaluator.\n",
        "    model.eval() # from ogb.nodeproppred\n",
        "\n",
        "    # The output of model on all data\n",
        "    out = None\n",
        "\n",
        "    ############# Your code here ############\n",
        "    ## (~1 line of code)\n",
        "    ## Note:\n",
        "    ## 1. No index slicing here\n",
        "    out = model(data.x, data.adj_t)\n",
        "    #########################################\n",
        "\n",
        "    y_pred = out.argmax(dim=-1, keepdim=True)\n",
        "\n",
        "    train_acc = evaluator.eval({\n",
        "        'y_true': data.y[split_idx['train']],\n",
        "        'y_pred': y_pred[split_idx['train']],\n",
        "    })['acc']\n",
        "    valid_acc = evaluator.eval({\n",
        "        'y_true': data.y[split_idx['valid']],\n",
        "        'y_pred': y_pred[split_idx['valid']],\n",
        "    })['acc']\n",
        "    test_acc = evaluator.eval({\n",
        "        'y_true': data.y[split_idx['test']],\n",
        "        'y_pred': y_pred[split_idx['test']],\n",
        "    })['acc']\n",
        "\n",
        "    if save_model_results:\n",
        "      print (\"Saving Model Predictions\")\n",
        "\n",
        "      data = {}\n",
        "      data['y_pred'] = y_pred.view(-1).cpu().detach().numpy()\n",
        "\n",
        "      df = pd.DataFrame(data=data)\n",
        "      # Save locally as csv\n",
        "      df.to_csv('ogbn-arxiv_node.csv', sep=',', index=False)\n",
        "\n",
        "\n",
        "    return train_acc, valid_acc, test_acc"
      ]
    },
    {
      "cell_type": "code",
      "execution_count": 31,
      "metadata": {
        "id": "o7F46xkuLiOL"
      },
      "outputs": [],
      "source": [
        "# Please do not change the args\n",
        "if 'IS_GRADESCOPE_ENV' not in os.environ:\n",
        "  args = {\n",
        "      'device': device,\n",
        "      'num_layers': 3,\n",
        "      'hidden_dim': 256,\n",
        "      'dropout': 0.5,\n",
        "      'lr': 0.01,\n",
        "      'epochs': 100,\n",
        "  }\n",
        "  args"
      ]
    },
    {
      "cell_type": "code",
      "execution_count": 32,
      "metadata": {
        "id": "dT8RyM2cPGxM"
      },
      "outputs": [],
      "source": [
        "if 'IS_GRADESCOPE_ENV' not in os.environ:\n",
        "  model = GCN(data.num_features, args['hidden_dim'],\n",
        "              dataset.num_classes, args['num_layers'],\n",
        "              args['dropout']).to(device)\n",
        "  evaluator = Evaluator(name='ogbn-arxiv')"
      ]
    },
    {
      "cell_type": "code",
      "execution_count": 33,
      "metadata": {
        "id": "qd5O5cnPPdVF"
      },
      "outputs": [
        {
          "name": "stderr",
          "output_type": "stream",
          "text": [
            "/data/user/anaconda3/envs/fbdtf1/lib/python3.6/site-packages/ipykernel_launcher.py:88: UserWarning: Implicit dimension choice for log_softmax has been deprecated. Change the call to include dim=X as an argument.\n"
          ]
        },
        {
          "name": "stdout",
          "output_type": "stream",
          "text": [
            "Epoch: 01, Loss: 4.2588, Train: 24.20%, Valid: 28.12% Test: 25.39%\n",
            "Epoch: 02, Loss: 2.2581, Train: 27.51%, Valid: 27.14% Test: 32.20%\n",
            "Epoch: 03, Loss: 1.9212, Train: 28.39%, Valid: 33.61% Test: 36.07%\n",
            "Epoch: 04, Loss: 1.7264, Train: 27.41%, Valid: 30.96% Test: 32.44%\n",
            "Epoch: 05, Loss: 1.6207, Train: 30.18%, Valid: 32.07% Test: 34.05%\n",
            "Epoch: 06, Loss: 1.5294, Train: 33.82%, Valid: 34.15% Test: 35.52%\n",
            "Epoch: 07, Loss: 1.4754, Train: 34.36%, Valid: 33.47% Test: 33.62%\n",
            "Epoch: 08, Loss: 1.4244, Train: 33.49%, Valid: 31.37% Test: 30.82%\n",
            "Epoch: 09, Loss: 1.3839, Train: 33.81%, Valid: 29.43% Test: 28.83%\n",
            "Epoch: 10, Loss: 1.3494, Train: 34.94%, Valid: 28.73% Test: 28.11%\n",
            "Epoch: 11, Loss: 1.3254, Train: 36.70%, Valid: 29.53% Test: 29.34%\n",
            "Epoch: 12, Loss: 1.3004, Train: 38.97%, Valid: 33.17% Test: 34.12%\n",
            "Epoch: 13, Loss: 1.2782, Train: 41.98%, Valid: 39.47% Test: 41.35%\n",
            "Epoch: 14, Loss: 1.2548, Train: 45.23%, Valid: 44.68% Test: 46.37%\n",
            "Epoch: 15, Loss: 1.2346, Train: 48.11%, Valid: 48.33% Test: 50.40%\n",
            "Epoch: 16, Loss: 1.2155, Train: 51.12%, Valid: 52.40% Test: 54.69%\n",
            "Epoch: 17, Loss: 1.2025, Train: 53.74%, Valid: 55.18% Test: 57.82%\n",
            "Epoch: 18, Loss: 1.1885, Train: 55.93%, Valid: 57.34% Test: 59.84%\n",
            "Epoch: 19, Loss: 1.1796, Train: 57.92%, Valid: 59.32% Test: 60.88%\n",
            "Epoch: 20, Loss: 1.1680, Train: 59.66%, Valid: 60.66% Test: 61.87%\n",
            "Epoch: 21, Loss: 1.1545, Train: 61.02%, Valid: 61.48% Test: 62.77%\n",
            "Epoch: 22, Loss: 1.1426, Train: 61.69%, Valid: 62.13% Test: 63.99%\n",
            "Epoch: 23, Loss: 1.1365, Train: 62.08%, Valid: 62.60% Test: 64.38%\n",
            "Epoch: 24, Loss: 1.1290, Train: 62.99%, Valid: 63.30% Test: 64.62%\n",
            "Epoch: 25, Loss: 1.1246, Train: 63.95%, Valid: 63.94% Test: 64.49%\n",
            "Epoch: 26, Loss: 1.1115, Train: 64.83%, Valid: 63.83% Test: 63.95%\n",
            "Epoch: 27, Loss: 1.1068, Train: 65.60%, Valid: 64.19% Test: 63.92%\n",
            "Epoch: 28, Loss: 1.1002, Train: 66.20%, Valid: 64.84% Test: 64.65%\n",
            "Epoch: 29, Loss: 1.0910, Train: 66.49%, Valid: 65.83% Test: 65.94%\n",
            "Epoch: 30, Loss: 1.0809, Train: 66.65%, Valid: 66.20% Test: 66.49%\n",
            "Epoch: 31, Loss: 1.0800, Train: 66.74%, Valid: 66.22% Test: 66.33%\n",
            "Epoch: 32, Loss: 1.0698, Train: 66.80%, Valid: 65.80% Test: 65.72%\n",
            "Epoch: 33, Loss: 1.0668, Train: 67.32%, Valid: 66.07% Test: 65.71%\n",
            "Epoch: 34, Loss: 1.0628, Train: 68.27%, Valid: 67.54% Test: 67.23%\n",
            "Epoch: 35, Loss: 1.0551, Train: 68.92%, Valid: 68.53% Test: 68.19%\n",
            "Epoch: 36, Loss: 1.0503, Train: 69.26%, Valid: 68.80% Test: 68.31%\n",
            "Epoch: 37, Loss: 1.0477, Train: 69.24%, Valid: 68.60% Test: 67.80%\n",
            "Epoch: 38, Loss: 1.0429, Train: 69.38%, Valid: 68.34% Test: 67.04%\n",
            "Epoch: 39, Loss: 1.0347, Train: 69.70%, Valid: 68.47% Test: 66.75%\n",
            "Epoch: 40, Loss: 1.0357, Train: 69.80%, Valid: 68.62% Test: 67.08%\n",
            "Epoch: 41, Loss: 1.0298, Train: 70.17%, Valid: 69.41% Test: 68.62%\n",
            "Epoch: 42, Loss: 1.0288, Train: 70.37%, Valid: 69.94% Test: 69.30%\n",
            "Epoch: 43, Loss: 1.0234, Train: 70.62%, Valid: 70.15% Test: 69.43%\n",
            "Epoch: 44, Loss: 1.0191, Train: 70.80%, Valid: 69.96% Test: 68.97%\n",
            "Epoch: 45, Loss: 1.0150, Train: 70.89%, Valid: 69.88% Test: 68.62%\n",
            "Epoch: 46, Loss: 1.0135, Train: 70.98%, Valid: 69.74% Test: 68.49%\n",
            "Epoch: 47, Loss: 1.0082, Train: 71.05%, Valid: 69.77% Test: 68.20%\n",
            "Epoch: 48, Loss: 1.0042, Train: 71.14%, Valid: 69.91% Test: 68.24%\n",
            "Epoch: 49, Loss: 1.0036, Train: 71.29%, Valid: 70.14% Test: 68.49%\n",
            "Epoch: 50, Loss: 1.0004, Train: 71.61%, Valid: 70.46% Test: 68.94%\n",
            "Epoch: 51, Loss: 0.9966, Train: 71.74%, Valid: 70.51% Test: 69.44%\n",
            "Epoch: 52, Loss: 0.9959, Train: 71.79%, Valid: 70.58% Test: 69.61%\n",
            "Epoch: 53, Loss: 0.9927, Train: 71.88%, Valid: 70.61% Test: 69.45%\n",
            "Epoch: 54, Loss: 0.9868, Train: 71.93%, Valid: 70.19% Test: 68.45%\n",
            "Epoch: 55, Loss: 0.9862, Train: 71.88%, Valid: 69.67% Test: 67.56%\n",
            "Epoch: 56, Loss: 0.9834, Train: 71.77%, Valid: 69.49% Test: 67.42%\n",
            "Epoch: 57, Loss: 0.9810, Train: 71.90%, Valid: 69.84% Test: 68.03%\n",
            "Epoch: 58, Loss: 0.9797, Train: 72.10%, Valid: 70.42% Test: 68.73%\n",
            "Epoch: 59, Loss: 0.9777, Train: 72.24%, Valid: 70.78% Test: 69.23%\n",
            "Epoch: 60, Loss: 0.9750, Train: 72.35%, Valid: 71.03% Test: 69.89%\n",
            "Epoch: 61, Loss: 0.9729, Train: 72.29%, Valid: 71.18% Test: 70.19%\n",
            "Epoch: 62, Loss: 0.9712, Train: 72.30%, Valid: 71.21% Test: 70.16%\n",
            "Epoch: 63, Loss: 0.9682, Train: 72.23%, Valid: 70.96% Test: 69.54%\n",
            "Epoch: 64, Loss: 0.9638, Train: 72.33%, Valid: 70.80% Test: 69.38%\n",
            "Epoch: 65, Loss: 0.9625, Train: 72.38%, Valid: 70.82% Test: 69.34%\n",
            "Epoch: 66, Loss: 0.9601, Train: 72.61%, Valid: 71.10% Test: 69.90%\n",
            "Epoch: 67, Loss: 0.9575, Train: 72.79%, Valid: 71.43% Test: 70.57%\n",
            "Epoch: 68, Loss: 0.9565, Train: 72.90%, Valid: 71.19% Test: 70.11%\n",
            "Epoch: 69, Loss: 0.9552, Train: 72.74%, Valid: 70.61% Test: 68.77%\n",
            "Epoch: 70, Loss: 0.9521, Train: 72.55%, Valid: 70.14% Test: 67.66%\n",
            "Epoch: 71, Loss: 0.9518, Train: 72.61%, Valid: 70.19% Test: 67.92%\n",
            "Epoch: 72, Loss: 0.9472, Train: 72.75%, Valid: 70.75% Test: 68.94%\n",
            "Epoch: 73, Loss: 0.9476, Train: 72.99%, Valid: 71.52% Test: 69.94%\n",
            "Epoch: 74, Loss: 0.9443, Train: 73.09%, Valid: 71.41% Test: 69.94%\n",
            "Epoch: 75, Loss: 0.9429, Train: 73.16%, Valid: 70.97% Test: 69.15%\n",
            "Epoch: 76, Loss: 0.9417, Train: 73.01%, Valid: 70.49% Test: 68.30%\n",
            "Epoch: 77, Loss: 0.9366, Train: 72.93%, Valid: 70.19% Test: 68.06%\n",
            "Epoch: 78, Loss: 0.9400, Train: 72.94%, Valid: 70.49% Test: 68.74%\n",
            "Epoch: 79, Loss: 0.9362, Train: 73.19%, Valid: 71.24% Test: 70.20%\n",
            "Epoch: 80, Loss: 0.9323, Train: 73.15%, Valid: 71.24% Test: 70.12%\n",
            "Epoch: 81, Loss: 0.9319, Train: 73.25%, Valid: 71.26% Test: 69.81%\n",
            "Epoch: 82, Loss: 0.9312, Train: 73.28%, Valid: 70.87% Test: 69.02%\n",
            "Epoch: 83, Loss: 0.9302, Train: 73.27%, Valid: 70.62% Test: 68.42%\n",
            "Epoch: 84, Loss: 0.9281, Train: 73.41%, Valid: 70.86% Test: 68.90%\n",
            "Epoch: 85, Loss: 0.9267, Train: 73.51%, Valid: 71.30% Test: 69.70%\n",
            "Epoch: 86, Loss: 0.9242, Train: 73.48%, Valid: 71.61% Test: 70.15%\n",
            "Epoch: 87, Loss: 0.9224, Train: 73.51%, Valid: 71.59% Test: 70.14%\n",
            "Epoch: 88, Loss: 0.9217, Train: 73.54%, Valid: 71.51% Test: 70.10%\n",
            "Epoch: 89, Loss: 0.9199, Train: 73.69%, Valid: 71.65% Test: 70.35%\n",
            "Epoch: 90, Loss: 0.9195, Train: 73.77%, Valid: 71.58% Test: 70.12%\n",
            "Epoch: 91, Loss: 0.9159, Train: 73.77%, Valid: 71.33% Test: 69.73%\n",
            "Epoch: 92, Loss: 0.9163, Train: 73.74%, Valid: 71.08% Test: 69.47%\n",
            "Epoch: 93, Loss: 0.9170, Train: 73.87%, Valid: 71.34% Test: 69.98%\n",
            "Epoch: 94, Loss: 0.9132, Train: 73.96%, Valid: 71.73% Test: 70.73%\n",
            "Epoch: 95, Loss: 0.9106, Train: 73.91%, Valid: 71.74% Test: 70.70%\n",
            "Epoch: 96, Loss: 0.9100, Train: 73.90%, Valid: 71.34% Test: 69.52%\n",
            "Epoch: 97, Loss: 0.9090, Train: 73.95%, Valid: 71.49% Test: 69.89%\n",
            "Epoch: 98, Loss: 0.9077, Train: 74.01%, Valid: 71.89% Test: 70.72%\n",
            "Epoch: 99, Loss: 0.9076, Train: 73.99%, Valid: 71.69% Test: 70.43%\n",
            "Epoch: 100, Loss: 0.9061, Train: 73.94%, Valid: 71.45% Test: 69.93%\n"
          ]
        }
      ],
      "source": [
        "import copy\n",
        "if 'IS_GRADESCOPE_ENV' not in os.environ:\n",
        "  # reset the parameters to initial random value\n",
        "  model.reset_parameters()\n",
        "\n",
        "  optimizer = torch.optim.Adam(model.parameters(), lr=args['lr'])\n",
        "  #@ https://pytorch.org/docs/stable/generated/torch.nn.NLLLoss.html\n",
        "  loss_fn = F.nll_loss\n",
        "\n",
        "  best_model = None\n",
        "  best_valid_acc = 0\n",
        "\n",
        "  for epoch in range(1, 1 + args[\"epochs\"]):\n",
        "    loss = train(model, data, train_idx, optimizer, loss_fn) #! train\n",
        "    result = test(model, data, split_idx, evaluator)         #! eval\n",
        "    train_acc, valid_acc, test_acc = result\n",
        "    if valid_acc > best_valid_acc:\n",
        "        best_valid_acc = valid_acc\n",
        "        best_model = copy.deepcopy(model)\n",
        "    print(f'Epoch: {epoch:02d}, '\n",
        "          f'Loss: {loss:.4f}, '\n",
        "          f'Train: {100 * train_acc:.2f}%, '\n",
        "          f'Valid: {100 * valid_acc:.2f}% '\n",
        "          f'Test: {100 * test_acc:.2f}%')"
      ]
    },
    {
      "cell_type": "markdown",
      "metadata": {
        "id": "dQtt-EKA8P4r"
      },
      "source": [
        "## Question 5: What are your `best_model` validation and test accuracies?(20 points)\n",
        "\n",
        "Run the cell below to see the results of your best of model and save your model's predictions to a file named *ogbn-arxiv_node.csv*. \n",
        "\n",
        "You can view this file by clicking on the *Folder* icon on the left side pannel. As in Colab 1, when you sumbit your assignment, you will have to download this file and attatch it to your submission."
      ]
    },
    {
      "cell_type": "code",
      "execution_count": 34,
      "metadata": {
        "id": "EqcextqOL2FX"
      },
      "outputs": [
        {
          "name": "stderr",
          "output_type": "stream",
          "text": [
            "/data/user/anaconda3/envs/fbdtf1/lib/python3.6/site-packages/ipykernel_launcher.py:88: UserWarning: Implicit dimension choice for log_softmax has been deprecated. Change the call to include dim=X as an argument.\n"
          ]
        },
        {
          "name": "stdout",
          "output_type": "stream",
          "text": [
            "Saving Model Predictions\n",
            "Best model: Train: 74.01%, Valid: 71.89% Test: 70.72%\n"
          ]
        }
      ],
      "source": [
        "if 'IS_GRADESCOPE_ENV' not in os.environ:\n",
        "  best_result = test(best_model, data, split_idx, evaluator, save_model_results=True)\n",
        "  train_acc, valid_acc, test_acc = best_result\n",
        "  print(f'Best model: '\n",
        "        f'Train: {100 * train_acc:.2f}%, '\n",
        "        f'Valid: {100 * valid_acc:.2f}% '\n",
        "        f'Test: {100 * test_acc:.2f}%')"
      ]
    },
    {
      "cell_type": "markdown",
      "metadata": {
        "id": "R8pOD6y80TyI"
      },
      "source": [
        "# 4) GNN: Graph Property Prediction\n",
        "\n",
        "In this section we will create a graph neural network for graph property prediction (graph classification).\n"
      ]
    },
    {
      "cell_type": "markdown",
      "metadata": {
        "id": "vRg5VOEdQTa4"
      },
      "source": [
        "## Load and preprocess the dataset"
      ]
    },
    {
      "cell_type": "code",
      "execution_count": 35,
      "metadata": {
        "id": "LXb-O5QUIgTH"
      },
      "outputs": [
        {
          "name": "stdout",
          "output_type": "stream",
          "text": [
            "Downloading http://snap.stanford.edu/ogb/data/graphproppred/csv_mol_download/hiv.zip\n"
          ]
        },
        {
          "name": "stderr",
          "output_type": "stream",
          "text": [
            "Downloaded 0.00 GB: 100%|██████████| 3/3 [00:02<00:00,  1.31it/s]\n",
            "Processing...\n"
          ]
        },
        {
          "name": "stdout",
          "output_type": "stream",
          "text": [
            "Extracting dataset/hiv.zip\n",
            "Loading necessary files...\n",
            "This might take a while.\n",
            "Processing graphs...\n"
          ]
        },
        {
          "name": "stderr",
          "output_type": "stream",
          "text": [
            "100%|██████████| 41127/41127 [00:00<00:00, 123170.30it/s]\n"
          ]
        },
        {
          "name": "stdout",
          "output_type": "stream",
          "text": [
            "Converting graphs into PyG objects...\n"
          ]
        },
        {
          "name": "stderr",
          "output_type": "stream",
          "text": [
            "100%|██████████| 41127/41127 [00:00<00:00, 44340.76it/s]\n"
          ]
        },
        {
          "name": "stdout",
          "output_type": "stream",
          "text": [
            "Saving...\n",
            "Device: cuda\n",
            "Task type: binary classification\n"
          ]
        },
        {
          "name": "stderr",
          "output_type": "stream",
          "text": [
            "Done!\n"
          ]
        }
      ],
      "source": [
        "from ogb.graphproppred import PygGraphPropPredDataset, Evaluator\n",
        "from torch_geometric.data import DataLoader\n",
        "from tqdm.notebook import tqdm\n",
        "\n",
        "if 'IS_GRADESCOPE_ENV' not in os.environ:\n",
        "  # Load the dataset \n",
        "  dataset = PygGraphPropPredDataset(name='ogbg-molhiv')\n",
        "\n",
        "  device = 'cuda' if torch.cuda.is_available() else 'cpu'\n",
        "  print('Device: {}'.format(device))\n",
        "\n",
        "  split_idx = dataset.get_idx_split()\n",
        "\n",
        "  # Check task type\n",
        "  print('Task type: {}'.format(dataset.task_type))"
      ]
    },
    {
      "cell_type": "code",
      "execution_count": 37,
      "metadata": {
        "id": "7cHHbgW1c5hi"
      },
      "outputs": [],
      "source": [
        "# Load the dataset splits into corresponding dataloaders\n",
        "# We will train the graph classification task on a batch of 32 graphs\n",
        "# Shuffle the order of graphs for training set\n",
        "from torch_geometric.loader import DataLoader\n",
        "\n",
        "if 'IS_GRADESCOPE_ENV' not in os.environ:\n",
        "  train_loader = DataLoader(dataset[split_idx[\"train\"]], batch_size=32, shuffle=True, num_workers=0)\n",
        "  valid_loader = DataLoader(dataset[split_idx[\"valid\"]], batch_size=32, shuffle=False, num_workers=0)\n",
        "  test_loader = DataLoader(dataset[split_idx[\"test\"]], batch_size=32, shuffle=False, num_workers=0)"
      ]
    },
    {
      "cell_type": "code",
      "execution_count": 38,
      "metadata": {
        "id": "AYrSnOj0Y4DK"
      },
      "outputs": [],
      "source": [
        "if 'IS_GRADESCOPE_ENV' not in os.environ:\n",
        "  # Please do not change the args\n",
        "  args = {\n",
        "      'device': device,\n",
        "      'num_layers': 5,\n",
        "      'hidden_dim': 256,\n",
        "      'dropout': 0.5,\n",
        "      'lr': 0.001,\n",
        "      'epochs': 30,\n",
        "  }\n",
        "  args"
      ]
    },
    {
      "cell_type": "markdown",
      "metadata": {
        "id": "7WLhguSTeazy"
      },
      "source": [
        "***\n",
        "\n",
        "## Graph Prediction Model"
      ]
    },
    {
      "cell_type": "markdown",
      "metadata": {
        "id": "u05Z14TRYPGn"
      },
      "source": [
        "### Graph Mini-Batching\n",
        "Before diving into the actual model, we introduce the concept of mini-batching with graphs. In order to parallelize the processing of a mini-batch of graphs, PyG combines the graphs into a single disconnected graph data object (*torch_geometric.data.Batch*). *torch_geometric.data.Batch* inherits from *torch_geometric.data.Data* (introduced earlier) and contains an additional attribute called `batch`. \n",
        "\n",
        "The `batch` attribute is a vector mapping each node to the index of its corresponding graph within the mini-batch:\n",
        "\n",
        "    batch = [0, ..., 0, 1, ..., n - 2, n - 1, ..., n - 1]\n",
        "\n",
        "This attribute is crucial for associating which graph each node belongs to and can be used to e.g. average the node embeddings for each graph individually to compute graph level embeddings. \n",
        "\n"
      ]
    },
    {
      "cell_type": "markdown",
      "metadata": {
        "id": "Pcic9NNU3nGK"
      },
      "source": [
        "### Implemention\n",
        "Now, we have all of the tools to implement a GCN Graph Prediction model!  \n",
        "\n",
        "We will reuse the existing GCN model to generate `node_embeddings` and then use  `Global Pooling` over the nodes to create graph level embeddings that can be used to predict properties for the each graph. Remeber that the `batch` attribute will be essential for performining Global Pooling over our mini-batch of graphs.  \n",
        "\n",
        "[AtomEncoder](https://pytorch-geometric.readthedocs.io/en/latest/modules/graphgym.html#torch_geometric.graphgym.models.AtomEncoder) and [source code](https://pytorch-geometric.readthedocs.io/en/latest/_modules/torch_geometric/graphgym/models/encoder.html#AtomEncoder)  \n",
        "message(): x_j + edge_attr, embed [node and edge](https://bbs.huaweicloud.com/blogs/328656)  \n",
        "$$ \\mathbf{r}_i = \\frac{1}{N_i} \\sum_{n=1}^{N_i} \\mathbf{x}_n. $$\n"
      ]
    },
    {
      "cell_type": "code",
      "execution_count": 26,
      "metadata": {
        "id": "3_Kq3zyjeZ22"
      },
      "outputs": [],
      "source": [
        "from ogb.graphproppred.mol_encoder import AtomEncoder\n",
        "from torch_geometric.nn import global_add_pool, global_mean_pool\n",
        "\n",
        "### GCN to predict graph property\n",
        "class GCN_Graph(torch.nn.Module):\n",
        "    def __init__(self, hidden_dim, output_dim, num_layers, dropout):\n",
        "        super(GCN_Graph, self).__init__()\n",
        "\n",
        "        # Load encoders for Atoms in molecule graphs\n",
        "        self.node_encoder = AtomEncoder(hidden_dim)\n",
        "\n",
        "        # Node embedding model\n",
        "        # Note that the input_dim and output_dim are set to hidden_dim\n",
        "        self.gnn_node = GCN(hidden_dim, hidden_dim,\n",
        "            hidden_dim, num_layers, dropout, return_embeds=True)\n",
        "\n",
        "        self.pool = None\n",
        "\n",
        "        ############# Your code here ############\n",
        "        ## Note:\n",
        "        ## 1. Initialize self.pool as a global mean pooling layer\n",
        "        ## For more information please refer to the documentation:\n",
        "        ##@ https://pytorch-geometric.readthedocs.io/en/latest/modules/nn.html#global-pooling-layers\n",
        "        \n",
        "        self.pool = global_mean_pool\n",
        "        #########################################\n",
        "\n",
        "        # Output layer\n",
        "        self.linear = torch.nn.Linear(hidden_dim, output_dim)\n",
        "\n",
        "\n",
        "    def reset_parameters(self):\n",
        "      self.gnn_node.reset_parameters()\n",
        "      self.linear.reset_parameters()\n",
        "\n",
        "    def forward(self, batched_data):\n",
        "        # TODO: Implement a function that takes as input a \n",
        "        # mini-batch of graphs (torch_geometric.data.Batch) and \n",
        "        # returns the predicted graph property for each graph. \n",
        "        #\n",
        "        # NOTE: Since we are predicting graph level properties,\n",
        "        # your output will be a tensor with dimension equaling\n",
        "        # the number of graphs in the mini-batch\n",
        "\n",
        "    \n",
        "        # Extract important attributes of our mini-batch\n",
        "        x, edge_index, batch = batched_data.x, batched_data.edge_index, batched_data.batch\n",
        "        embed = self.node_encoder(x) # x is processed into specific dim\n",
        "\n",
        "        out = None\n",
        "\n",
        "        ############# Your code here ############\n",
        "        ## Note:\n",
        "        ## 1. Construct node embeddings using existing GCN model\n",
        "        ## 2. Use the global pooling layer to aggregate features for each individual graph\n",
        "        ## For more information please refer to the documentation:\n",
        "        ##@ https://pytorch-geometric.readthedocs.io/en/latest/modules/nn.html#global-pooling-layers\n",
        "        ## 3. Use a linear layer to predict each graph's property\n",
        "        ## (~3 lines of code)\n",
        "        \n",
        "        out = self.gnn_node(embed, edge_index) # forward: x, adj_t\n",
        "        out = self.pool(out, batch) # https://pytorch-geometric.readthedocs.io/en/latest/_modules/torch_geometric/nn/pool/glob.html#global_mean_pool\n",
        "        out = self.linear(out)\n",
        "        #########################################\n",
        "\n",
        "        return out"
      ]
    },
    {
      "cell_type": "code",
      "execution_count": 23,
      "metadata": {
        "id": "FJjnGuMSbjX0"
      },
      "outputs": [],
      "source": [
        "def train(model, device, data_loader, optimizer, loss_fn):\n",
        "    # TODO: Implement a function that trains your model by \n",
        "    # using the given optimizer and loss_fn.\n",
        "    model.train()\n",
        "    loss = 0\n",
        "\n",
        "    for step, batch in enumerate(data_loader):\n",
        "      batch = batch.to(device)\n",
        "\n",
        "      if batch.x.shape[0] == 1 or batch.batch[-1] == 0:\n",
        "          pass\n",
        "      else:\n",
        "        ## ignore nan targets (unlabeled) when computing training loss.\n",
        "        is_labeled = batch.y == batch.y\n",
        "\n",
        "        ############# Your code here ############\n",
        "        ## Note:\n",
        "        ## 1. Zero grad the optimizer\n",
        "        ## 2. Feed the data into the model\n",
        "        ## 3. Use `is_labeled` mask to filter output and labels\n",
        "        ## 4. You may need to change the type of label to torch.float32\n",
        "        ## 5. Feed the output and label to the loss_fn\n",
        "        ## (~3 lines of code)\n",
        "        \n",
        "        optimizer.zero_grad()\n",
        "        output = model(batch)\n",
        "        train_output = output[is_labeled]\n",
        "        train_gtlabel = batch.y[is_labeled]\n",
        "        loss = loss_fn(train_output.float(), train_gtlabel.float())\n",
        "        #########################################\n",
        "\n",
        "        loss.backward()\n",
        "        optimizer.step()\n",
        "\n",
        "    return loss.item()"
      ]
    },
    {
      "cell_type": "code",
      "execution_count": 24,
      "metadata": {
        "id": "ztPHXq_Gzn7U"
      },
      "outputs": [],
      "source": [
        "# The evaluation function\n",
        "def eval(model, device, loader, evaluator, save_model_results=False, save_file=None):\n",
        "    model.eval()\n",
        "    y_true = []\n",
        "    y_pred = []\n",
        "\n",
        "    for step, batch in enumerate(loader):\n",
        "        batch = batch.to(device)\n",
        "\n",
        "        if batch.x.shape[0] == 1:\n",
        "            pass\n",
        "        else:\n",
        "            with torch.no_grad():\n",
        "                pred = model(batch)\n",
        "\n",
        "            y_true.append(batch.y.view(pred.shape).detach().cpu())\n",
        "            y_pred.append(pred.detach().cpu())\n",
        "\n",
        "    y_true = torch.cat(y_true, dim = 0).numpy()\n",
        "    y_pred = torch.cat(y_pred, dim = 0).numpy()\n",
        "\n",
        "    input_dict = {\"y_true\": y_true, \"y_pred\": y_pred}\n",
        "\n",
        "    if save_model_results:\n",
        "        print (\"Saving Model Predictions\")\n",
        "        \n",
        "        # Create a pandas dataframe with a two columns\n",
        "        # y_pred | y_true\n",
        "        data = {}\n",
        "        data['y_pred'] = y_pred.reshape(-1)\n",
        "        data['y_true'] = y_true.reshape(-1)\n",
        "\n",
        "        df = pd.DataFrame(data=data)\n",
        "        # Save to csv\n",
        "        df.to_csv('ogbg-molhiv_graph_' + save_file + '.csv', sep=',', index=False)\n",
        "\n",
        "    return evaluator.eval(input_dict)"
      ]
    },
    {
      "cell_type": "code",
      "execution_count": 25,
      "metadata": {
        "id": "MR1wQ4hMZeMw"
      },
      "outputs": [],
      "source": [
        "if 'IS_GRADESCOPE_ENV' not in os.environ:\n",
        "  model = GCN_Graph(args['hidden_dim'],\n",
        "              dataset.num_tasks, args['num_layers'],\n",
        "              args['dropout']).to(device)\n",
        "  evaluator = Evaluator(name='ogbg-molhiv')"
      ]
    },
    {
      "cell_type": "code",
      "execution_count": 27,
      "metadata": {
        "id": "qJGTNZiuZy0A"
      },
      "outputs": [
        {
          "name": "stdout",
          "output_type": "stream",
          "text": [
            "Training...\n",
            "Evaluating...\n",
            "Epoch: 01, Loss: 0.0378, Train: 73.19%, Valid: 76.74% Test: 72.75%\n",
            "Training...\n",
            "Evaluating...\n",
            "Epoch: 02, Loss: 0.8327, Train: 75.82%, Valid: 71.63% Test: 74.35%\n",
            "Training...\n",
            "Evaluating...\n",
            "Epoch: 03, Loss: 0.0418, Train: 74.84%, Valid: 71.03% Test: 74.57%\n",
            "Training...\n",
            "Evaluating...\n",
            "Epoch: 04, Loss: 0.4949, Train: 78.34%, Valid: 77.75% Test: 70.00%\n",
            "Training...\n",
            "Evaluating...\n",
            "Epoch: 05, Loss: 0.8373, Train: 77.52%, Valid: 76.52% Test: 71.56%\n",
            "Training...\n",
            "Evaluating...\n",
            "Epoch: 06, Loss: 0.0425, Train: 76.32%, Valid: 72.70% Test: 72.50%\n",
            "Training...\n",
            "Evaluating...\n",
            "Epoch: 07, Loss: 0.0152, Train: 78.58%, Valid: 78.00% Test: 71.41%\n",
            "Training...\n",
            "Evaluating...\n",
            "Epoch: 08, Loss: 0.0330, Train: 79.05%, Valid: 80.44% Test: 71.80%\n",
            "Training...\n",
            "Evaluating...\n",
            "Epoch: 09, Loss: 0.5453, Train: 77.95%, Valid: 74.40% Test: 68.27%\n",
            "Training...\n",
            "Evaluating...\n",
            "Epoch: 10, Loss: 0.0370, Train: 79.55%, Valid: 78.68% Test: 74.14%\n",
            "Training...\n",
            "Evaluating...\n",
            "Epoch: 11, Loss: 0.0402, Train: 78.87%, Valid: 76.84% Test: 70.18%\n",
            "Training...\n",
            "Evaluating...\n",
            "Epoch: 12, Loss: 0.5827, Train: 80.54%, Valid: 79.07% Test: 72.39%\n",
            "Training...\n",
            "Evaluating...\n",
            "Epoch: 13, Loss: 0.0194, Train: 81.67%, Valid: 77.94% Test: 72.73%\n",
            "Training...\n",
            "Evaluating...\n",
            "Epoch: 14, Loss: 0.0166, Train: 81.63%, Valid: 77.33% Test: 73.77%\n",
            "Training...\n",
            "Evaluating...\n",
            "Epoch: 15, Loss: 0.0388, Train: 81.75%, Valid: 78.85% Test: 73.22%\n",
            "Training...\n",
            "Evaluating...\n",
            "Epoch: 16, Loss: 0.0154, Train: 81.32%, Valid: 77.72% Test: 72.64%\n",
            "Training...\n",
            "Evaluating...\n",
            "Epoch: 17, Loss: 0.3962, Train: 81.93%, Valid: 77.39% Test: 74.16%\n",
            "Training...\n",
            "Evaluating...\n",
            "Epoch: 18, Loss: 0.0199, Train: 81.57%, Valid: 77.47% Test: 74.20%\n",
            "Training...\n",
            "Evaluating...\n",
            "Epoch: 19, Loss: 0.0152, Train: 81.96%, Valid: 79.80% Test: 75.89%\n",
            "Training...\n",
            "Evaluating...\n",
            "Epoch: 20, Loss: 0.0154, Train: 82.43%, Valid: 80.38% Test: 74.85%\n",
            "Training...\n",
            "Evaluating...\n",
            "Epoch: 21, Loss: 0.0337, Train: 82.61%, Valid: 79.22% Test: 72.92%\n",
            "Training...\n",
            "Evaluating...\n",
            "Epoch: 22, Loss: 0.0327, Train: 82.93%, Valid: 79.12% Test: 73.79%\n",
            "Training...\n",
            "Evaluating...\n",
            "Epoch: 23, Loss: 0.0577, Train: 82.94%, Valid: 76.67% Test: 74.35%\n",
            "Training...\n",
            "Evaluating...\n",
            "Epoch: 24, Loss: 0.0260, Train: 82.91%, Valid: 77.80% Test: 75.22%\n",
            "Training...\n",
            "Evaluating...\n",
            "Epoch: 25, Loss: 0.0201, Train: 83.90%, Valid: 81.86% Test: 74.74%\n",
            "Training...\n",
            "Evaluating...\n",
            "Epoch: 26, Loss: 0.0456, Train: 83.28%, Valid: 81.29% Test: 74.76%\n",
            "Training...\n",
            "Evaluating...\n",
            "Epoch: 27, Loss: 0.0147, Train: 82.32%, Valid: 77.80% Test: 75.57%\n",
            "Training...\n",
            "Evaluating...\n",
            "Epoch: 28, Loss: 0.0460, Train: 83.50%, Valid: 80.80% Test: 75.41%\n",
            "Training...\n",
            "Evaluating...\n",
            "Epoch: 29, Loss: 0.0096, Train: 84.54%, Valid: 80.69% Test: 75.91%\n",
            "Training...\n",
            "Evaluating...\n",
            "Epoch: 30, Loss: 0.0359, Train: 84.45%, Valid: 79.96% Test: 74.68%\n"
          ]
        }
      ],
      "source": [
        "import copy\n",
        "\n",
        "if 'IS_GRADESCOPE_ENV' not in os.environ:\n",
        "  model.reset_parameters()\n",
        "\n",
        "  optimizer = torch.optim.Adam(model.parameters(), lr=args['lr'])\n",
        "  loss_fn = torch.nn.BCEWithLogitsLoss()\n",
        "\n",
        "  best_model = None\n",
        "  best_valid_acc = 0\n",
        "\n",
        "  for epoch in range(1, 1 + args[\"epochs\"]):\n",
        "    print('Training...')\n",
        "    loss = train(model, device, train_loader, optimizer, loss_fn)\n",
        "\n",
        "    print('Evaluating...')\n",
        "    train_result = eval(model, device, train_loader, evaluator)\n",
        "    val_result = eval(model, device, valid_loader, evaluator)\n",
        "    test_result = eval(model, device, test_loader, evaluator)\n",
        "\n",
        "    train_acc, valid_acc, test_acc = train_result[dataset.eval_metric], val_result[dataset.eval_metric], test_result[dataset.eval_metric]\n",
        "    if valid_acc > best_valid_acc:\n",
        "        best_valid_acc = valid_acc\n",
        "        best_model = copy.deepcopy(model)\n",
        "    print(f'Epoch: {epoch:02d}, '\n",
        "          f'Loss: {loss:.4f}, '\n",
        "          f'Train: {100 * train_acc:.2f}%, '\n",
        "          f'Valid: {100 * valid_acc:.2f}% '\n",
        "          f'Test: {100 * test_acc:.2f}%')"
      ]
    },
    {
      "cell_type": "markdown",
      "metadata": {
        "id": "6I17-Qso_n88"
      },
      "source": [
        "## Question 6: What are your `best_model` validation and test ROC-AUC scores? (20 points)\n",
        "\n",
        "Run the cell below to see the results of your best of model and save your model's predictions over the validation and test datasets. The resulting files are named *ogbn-arxiv_graph_valid.csv* and *ogbn-arxiv_graph_test.csv*. \n",
        "\n",
        "Again, you can view these files by clicking on the *Folder* icon on the left side pannel. As in Colab 1, when you sumbit your assignment, you will have to download these files and attatch them to your submission."
      ]
    },
    {
      "cell_type": "code",
      "execution_count": 28,
      "metadata": {
        "id": "Oq5QaG21dOOO"
      },
      "outputs": [
        {
          "name": "stdout",
          "output_type": "stream",
          "text": [
            "Saving Model Predictions\n",
            "Saving Model Predictions\n",
            "Best model: Train: 83.90%, Valid: 81.86% Test: 74.74%\n"
          ]
        }
      ],
      "source": [
        "if 'IS_GRADESCOPE_ENV' not in os.environ:\n",
        "  train_acc = eval(best_model, device, train_loader, evaluator)[dataset.eval_metric]\n",
        "  valid_acc = eval(best_model, device, valid_loader, evaluator, save_model_results=True, save_file=\"valid\")[dataset.eval_metric]\n",
        "  test_acc  = eval(best_model, device, test_loader, evaluator, save_model_results=True, save_file=\"test\")[dataset.eval_metric]\n",
        "\n",
        "  print(f'Best model: '\n",
        "      f'Train: {100 * train_acc:.2f}%, '\n",
        "      f'Valid: {100 * valid_acc:.2f}% '\n",
        "      f'Test: {100 * test_acc:.2f}%')"
      ]
    },
    {
      "cell_type": "code",
      "execution_count": 35,
      "metadata": {},
      "outputs": [],
      "source": [
        "import matplotlib.pyplot as plt\n",
        "from sklearn import metrics\n",
        "import numpy as np \n",
        "\n",
        "validData = pd.read_csv('ogbg-molhiv_graph_valid.csv')\n",
        "valid_data = validData.values.tolist()\n",
        "\n",
        "y_test, y_gt= [], []\n",
        "for each in valid_data:\n",
        "    y_test.append(each[0])\n",
        "    y_gt.append(each[1])   "
      ]
    },
    {
      "cell_type": "code",
      "execution_count": 41,
      "metadata": {},
      "outputs": [
        {
          "data": {
            "image/png": "[encoded data removed]",
            "text/plain": [
              "<Figure size 432x288 with 1 Axes>"
            ]
          },
          "metadata": {
            "needs_background": "light"
          },
          "output_type": "display_data"
        },
        {
          "data": {
            "text/plain": [
              "0.8185809817754264"
            ]
          },
          "execution_count": 41,
          "metadata": {},
          "output_type": "execute_result"
        }
      ],
      "source": [
        "fpr, tpr, _ = metrics.roc_curve(y_gt,  y_test)\n",
        "auc = metrics.roc_auc_score(y_gt,  y_test)\n",
        "#create ROC curve\n",
        "plt.plot(fpr, tpr)\n",
        "plt.ylabel('True Positive Rate (TP / P) = (TP / (TP + FN))')\n",
        "plt.xlabel('False Positive Rate (FP / N) = (FP / (FP + TN))')\n",
        "plt.show()\n",
        "auc"
      ]
    },
    {
      "cell_type": "markdown",
      "metadata": {
        "id": "gBi_t8n0iZ4P"
      },
      "source": [
        "## Question 7 (Optional): Experiment with the two other global pooling layers in Pytorch Geometric."
      ]
    },
    {
      "cell_type": "markdown",
      "metadata": {
        "id": "e7JXsMTBgeOI"
      },
      "source": [
        "# Submission\n",
        "\n",
        "You will need to submit four files on Gradescope to complete this notebook. \n",
        "\n",
        "1.   Your completed *CS224W_Colab2.ipynb*. From the \"File\" menu select \"Download .ipynb\" to save a local copy of your completed Colab. **PLEASE DO NOT CHANGE THE NAME!** The autograder depends on the .ipynb file being called \"CS224W_Colab2.ipynb\".\n",
        "2.  *ogbn-arxiv_node.csv* \n",
        "3.  *ogbg-molhiv_graph_valid.csv*\n",
        "4.  *ogbg-molhiv_graph_test.csv*\n",
        "\n",
        "Download the csv files by selecting the *Folder* icon on the left panel. \n",
        "\n",
        "To submit your work, zip the files downloaded in steps 1-4 above and submit to gradescope. **NOTE:** DO NOT rename any of the downloaded files. "
      ]
    }
  ],
  "metadata": {
    "accelerator": "GPU",
    "colab": {
      "collapsed_sections": [],
      "machine_shape": "hm",
      "provenance": []
    },
    "kernelspec": {
      "display_name": "Python 3.9.6 64-bit",
      "language": "python",
      "name": "python3"
    },
    "language_info": {
      "codemirror_mode": {
        "name": "ipython",
        "version": 3
      },
      "file_extension": ".py",
      "mimetype": "text/x-python",
      "name": "python",
      "nbconvert_exporter": "python",
      "pygments_lexer": "ipython3",
      "version": "3.9.6"
    },
    "vscode": {
      "interpreter": {
        "hash": "31f2aee4e71d21fbe5cf8b01ff0e069b9275f58929596ceb00d14d90e3e16cd6"
      }
    }
  },
  "nbformat": 4,
  "nbformat_minor": 0
}
